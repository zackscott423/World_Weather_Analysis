{
 "cells": [
  {
   "cell_type": "code",
   "execution_count": 1,
   "id": "f4e15e94",
   "metadata": {},
   "outputs": [],
   "source": [
    "# Import the random module.\n",
    "import random"
   ]
  },
  {
   "cell_type": "code",
   "execution_count": 7,
   "id": "b5d2c890",
   "metadata": {},
   "outputs": [
    {
     "data": {
      "text/plain": [
       "0.9787565343656568"
      ]
     },
     "execution_count": 7,
     "metadata": {},
     "output_type": "execute_result"
    }
   ],
   "source": [
    "random.random()"
   ]
  },
  {
   "cell_type": "code",
   "execution_count": 6,
   "id": "40e8a75f",
   "metadata": {},
   "outputs": [
    {
     "data": {
      "text/plain": [
       "63"
      ]
     },
     "execution_count": 6,
     "metadata": {},
     "output_type": "execute_result"
    }
   ],
   "source": [
    "random.randint(-90,90)"
   ]
  },
  {
   "cell_type": "code",
   "execution_count": 4,
   "id": "1c469b9b",
   "metadata": {},
   "outputs": [
    {
     "data": {
      "text/plain": [
       "-7"
      ]
     },
     "execution_count": 4,
     "metadata": {},
     "output_type": "execute_result"
    }
   ],
   "source": [
    "random.randrange(-9,9,2)"
   ]
  },
  {
   "cell_type": "code",
   "execution_count": 5,
   "id": "617aa314",
   "metadata": {},
   "outputs": [
    {
     "data": {
      "text/plain": [
       "-4.163154232758785"
      ]
     },
     "execution_count": 5,
     "metadata": {},
     "output_type": "execute_result"
    }
   ],
   "source": [
    "random.uniform(-10,10)"
   ]
  },
  {
   "cell_type": "code",
   "execution_count": 11,
   "id": "2be993f2",
   "metadata": {},
   "outputs": [
    {
     "data": {
      "text/plain": [
       "4.276927046286937"
      ]
     },
     "execution_count": 11,
     "metadata": {},
     "output_type": "execute_result"
    }
   ],
   "source": [
    "random_number = random.randint(-90,89) + random.random()\n",
    "random_number"
   ]
  },
  {
   "cell_type": "code",
   "execution_count": 12,
   "id": "63df41fd",
   "metadata": {},
   "outputs": [],
   "source": [
    "x = 1\n",
    "latitudes = []\n",
    "while x < 11:\n",
    "    random_lat = random.randint(-90,89) + random.random()\n",
    "    latitudes.append(random_lat)\n",
    "    x += 1"
   ]
  },
  {
   "cell_type": "code",
   "execution_count": 13,
   "id": "a0553b9f",
   "metadata": {},
   "outputs": [
    {
     "data": {
      "text/plain": [
       "[88.15699080184358,\n",
       " -80.47710929746133,\n",
       " -81.24900349085206,\n",
       " 60.62370993727483,\n",
       " -3.9713910393856193,\n",
       " 60.32789560971475,\n",
       " 32.17595027969514,\n",
       " -70.92178389743168,\n",
       " 65.04638529123353,\n",
       " 11.552856271686267]"
      ]
     },
     "execution_count": 13,
     "metadata": {},
     "output_type": "execute_result"
    }
   ],
   "source": [
    "latitudes"
   ]
  },
  {
   "cell_type": "code",
   "execution_count": 15,
   "id": "08285614",
   "metadata": {},
   "outputs": [
    {
     "data": {
      "text/plain": [
       "-52"
      ]
     },
     "execution_count": 15,
     "metadata": {},
     "output_type": "execute_result"
    }
   ],
   "source": [
    "random.randrange(-90, 90, step=1)"
   ]
  },
  {
   "cell_type": "code",
   "execution_count": 16,
   "id": "f0978e4a",
   "metadata": {},
   "outputs": [
    {
     "data": {
      "text/plain": [
       "-63"
      ]
     },
     "execution_count": 16,
     "metadata": {},
     "output_type": "execute_result"
    }
   ],
   "source": [
    "random.randrange(-90, 90, step=3)"
   ]
  },
  {
   "cell_type": "code",
   "execution_count": 17,
   "id": "1f0c5035",
   "metadata": {},
   "outputs": [],
   "source": [
    "# Import the NumPy module.\n",
    "import numpy as np"
   ]
  },
  {
   "cell_type": "code",
   "execution_count": 18,
   "id": "81ee29c9",
   "metadata": {},
   "outputs": [
    {
     "data": {
      "text/plain": [
       "52.73596009479576"
      ]
     },
     "execution_count": 18,
     "metadata": {},
     "output_type": "execute_result"
    }
   ],
   "source": [
    "np.random.uniform(-90.000, 90.000)"
   ]
  },
  {
   "cell_type": "code",
   "execution_count": 19,
   "id": "94232f06",
   "metadata": {},
   "outputs": [
    {
     "data": {
      "text/plain": [
       "-9.462112661585635"
      ]
     },
     "execution_count": 19,
     "metadata": {},
     "output_type": "execute_result"
    }
   ],
   "source": [
    "np.random.uniform(low=-90, high=90)"
   ]
  },
  {
   "cell_type": "code",
   "execution_count": 20,
   "id": "9002d35d",
   "metadata": {},
   "outputs": [
    {
     "data": {
      "text/plain": [
       "array([ 32.65321968,   8.49200785,  22.60528373,  75.10133608,\n",
       "       -67.4500698 , -80.1082001 ,  29.61316929, -88.69939902,\n",
       "       -79.59131892, -32.20932455,  -3.41867328,   1.84734428,\n",
       "       -59.6876824 ,  35.61369516, -75.10426782, -89.62233775,\n",
       "        61.85707803, -29.69602189, -53.92550185, -85.41766904,\n",
       "        88.38037981,   7.87324191, -69.98214457, -14.5413828 ,\n",
       "       -54.84555833, -10.41950563, -62.46548001, -54.21427849,\n",
       "       -33.72164891,  85.76044576,  65.41182143, -49.41074744,\n",
       "        -2.64997416, -30.12140571, -28.89637491,  68.17322921,\n",
       "       -88.48656463, -87.69640705,  55.28652603,  41.61350867,\n",
       "       -14.65644984, -65.28752864, -60.46806719, -71.60138864,\n",
       "        43.26894564, -69.60720854,  78.40745044,  41.45599055,\n",
       "        41.07251277, -41.40240255])"
      ]
     },
     "execution_count": 20,
     "metadata": {},
     "output_type": "execute_result"
    }
   ],
   "source": [
    "np.random.uniform(-90.000, 90.000, size=50)"
   ]
  },
  {
   "cell_type": "code",
   "execution_count": 21,
   "id": "82885bce",
   "metadata": {},
   "outputs": [],
   "source": [
    "# Import timeit.\n",
    "import timeit"
   ]
  },
  {
   "cell_type": "code",
   "execution_count": 22,
   "id": "b49d4bfb",
   "metadata": {},
   "outputs": [
    {
     "name": "stdout",
     "output_type": "stream",
     "text": [
      "12.6 µs ± 57.5 ns per loop (mean ± std. dev. of 7 runs, 100000 loops each)\n"
     ]
    }
   ],
   "source": [
    "%timeit np.random.uniform(-90.000, 90.000, size=1500)"
   ]
  },
  {
   "cell_type": "code",
   "execution_count": 23,
   "id": "8be3a034",
   "metadata": {},
   "outputs": [
    {
     "name": "stdout",
     "output_type": "stream",
     "text": [
      "1.2 ms ± 2.63 µs per loop (mean ± std. dev. of 7 runs, 1000 loops each)\n"
     ]
    }
   ],
   "source": [
    "def latitudes(size):\n",
    "    latitudes = []\n",
    "    x = 0\n",
    "    while x < (size):\n",
    "        random_lat = random.randint(-90, 90) + random.random()\n",
    "        latitudes.append(random_lat)\n",
    "        x += 1\n",
    "    return latitudes\n",
    "# Call the function with 1500.\n",
    "%timeit latitudes(1500)"
   ]
  },
  {
   "cell_type": "code",
   "execution_count": 27,
   "id": "e82fa0f4",
   "metadata": {},
   "outputs": [
    {
     "name": "stdout",
     "output_type": "stream",
     "text": [
      "1.2 ms ± 6.58 µs per loop (mean ± std. dev. of 7 runs, 1000 loops each)\n"
     ]
    }
   ],
   "source": [
    "def latitudes(size):\n",
    "    latitudes = []\n",
    "    x = 0\n",
    "    for x in range(0,size):\n",
    "        random_lat = random.randint(-90, 90) + random.random()\n",
    "        latitudes.append(random_lat)\n",
    "        x += 1\n",
    "    return latitudes\n",
    "# Call the function with 1500.\n",
    "%timeit latitudes(1500)"
   ]
  },
  {
   "cell_type": "code",
   "execution_count": null,
   "id": "b979e8b2",
   "metadata": {},
   "outputs": [],
   "source": []
  }
 ],
 "metadata": {
  "kernelspec": {
   "display_name": "PythonData",
   "language": "python",
   "name": "pythondata"
  },
  "language_info": {
   "codemirror_mode": {
    "name": "ipython",
    "version": 3
   },
   "file_extension": ".py",
   "mimetype": "text/x-python",
   "name": "python",
   "nbconvert_exporter": "python",
   "pygments_lexer": "ipython3",
   "version": "3.8.3"
  }
 },
 "nbformat": 4,
 "nbformat_minor": 5
}
